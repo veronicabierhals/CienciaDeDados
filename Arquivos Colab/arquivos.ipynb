{
  "nbformat": 4,
  "nbformat_minor": 0,
  "metadata": {
    "colab": {
      "provenance": [],
      "authorship_tag": "ABX9TyN3P50ndNeZylV+UQlkqqbV",
      "include_colab_link": true
    },
    "kernelspec": {
      "name": "python3",
      "display_name": "Python 3"
    },
    "language_info": {
      "name": "python"
    }
  },
  "cells": [
    {
      "cell_type": "markdown",
      "metadata": {
        "id": "view-in-github",
        "colab_type": "text"
      },
      "source": [
        "<a href=\"https://colab.research.google.com/github/veronicabierhals/CienciaDeDados/blob/main/Arquivos%20Colab/arquivos.ipynb\" target=\"_parent\"><img src=\"https://colab.research.google.com/assets/colab-badge.svg\" alt=\"Open In Colab\"/></a>"
      ]
    },
    {
      "cell_type": "code",
      "execution_count": 6,
      "metadata": {
        "id": "f-5uaWovShO2"
      },
      "outputs": [],
      "source": [
        "import csv\n",
        "import pandas as pd"
      ]
    },
    {
      "cell_type": "markdown",
      "source": [
        "# Arquivo txt\n",
        "\n",
        "Arquivo esta na pasta txt"
      ],
      "metadata": {
        "id": "1ndRYGozVXqi"
      }
    },
    {
      "cell_type": "code",
      "source": [
        "arquivo = open('machado_de_assis.txt', 'r')"
      ],
      "metadata": {
        "id": "fzhSXyhaSpsY"
      },
      "execution_count": null,
      "outputs": []
    },
    {
      "cell_type": "code",
      "source": [
        "conteudo = arquivo.readlines()\n",
        "arquivo.close()"
      ],
      "metadata": {
        "id": "mrGVSuA0TNSg"
      },
      "execution_count": null,
      "outputs": []
    },
    {
      "cell_type": "code",
      "source": [
        "print(conteudo)\n",
        "print('----')\n",
        "for linha in conteudo:\n",
        "  print(linha)"
      ],
      "metadata": {
        "id": "tdjv6UCUTWbi"
      },
      "execution_count": null,
      "outputs": []
    },
    {
      "cell_type": "markdown",
      "source": [
        "Alterar em todo o texto a palavra \"Rio de Janeiro\" por \"Ribeirão Preto\""
      ],
      "metadata": {
        "id": "_ViPU1OWT661"
      }
    },
    {
      "cell_type": "code",
      "source": [
        "x = ''\n",
        "for linha in conteudo:\n",
        "  if linha != '':\n",
        "    x += linha\n",
        "print(x)\n",
        "\n",
        "x = x.replace('Rio de Janeiro', 'Ribeirão Preto')\n",
        "print('----------')\n",
        "print(x)"
      ],
      "metadata": {
        "id": "eATleScTUD-y"
      },
      "execution_count": null,
      "outputs": []
    },
    {
      "cell_type": "markdown",
      "source": [
        "Gravar/gerar um novo arquivo"
      ],
      "metadata": {
        "id": "4AoJTmWcU6QG"
      }
    },
    {
      "cell_type": "code",
      "source": [
        "arquivo_novo = open('machado_assis_2.txt', 'w')\n",
        "arquivo_novo.writelines(x)\n",
        "arquivo_novo.close()"
      ],
      "metadata": {
        "id": "es4851EpU-3w"
      },
      "execution_count": null,
      "outputs": []
    },
    {
      "cell_type": "markdown",
      "source": [
        "# Arquivo CSV\n",
        "\n",
        "Arquivo CSV - cotação das ações Tesla <br>\n",
        "https://www.kaggle.com/datasets/rpaguirre/tesla-stock-price\n",
        "\n",
        "(arquivo salvo na pasta **csv**)\n",
        "\n",
        "Quando trabalhamos com `with as ` o arquivo fecha sozinho"
      ],
      "metadata": {
        "id": "gGVRO3_RVl5M"
      }
    },
    {
      "cell_type": "code",
      "source": [
        "import csv\n",
        "with open ('kaggle_tesla.csv', 'r') as arquivo:\n",
        "  leitor = csv.reader (arquivo, delimiter = ',')\n",
        "  for linha in leitor:\n",
        "    data = linha[0]\n",
        "    fechamento = linha[4]\n",
        "    volume = linha[5]\n",
        "    print('Data:', data, '--Fechamento:', fechamento, '--Volume:', volume)"
      ],
      "metadata": {
        "id": "jw5qY7B6VoHQ"
      },
      "execution_count": null,
      "outputs": []
    },
    {
      "cell_type": "markdown",
      "source": [
        "## Arquivo CSV usando Pandas\n",
        "\n",
        "Buscando o arquivo direto no GitHub <br>\n",
        "https://raw.githubusercontent.com/JeffSackmann/tennis_atp/master/atp_matches_2021.csv"
      ],
      "metadata": {
        "id": "MjJNRhFLZPpC"
      }
    },
    {
      "cell_type": "code",
      "source": [
        "arquivo = 'https://raw.githubusercontent.com/JeffSackmann/tennis_atp/master/atp_matches_2021.csv'\n",
        "\n",
        "dados = pd.read_csv(arquivo)\n",
        "print(dados)"
      ],
      "metadata": {
        "id": "uqLmyy-7aJq6"
      },
      "execution_count": null,
      "outputs": []
    },
    {
      "cell_type": "markdown",
      "source": [
        "Plotar uma informação"
      ],
      "metadata": {
        "id": "4A-TGalnayhy"
      }
    },
    {
      "cell_type": "code",
      "source": [
        "dados.winner_hand.value_counts().sort_values().plot(kind = 'barh')"
      ],
      "metadata": {
        "id": "hdmUbWjda0XB"
      },
      "execution_count": null,
      "outputs": []
    },
    {
      "cell_type": "markdown",
      "source": [
        "Abrir arquivo da Tesla usando Pandas, determinando nome das colunas e puxando apenas 4 linhas.\n",
        "\n",
        "`skiprows = 1` ignora a primeira linha\n",
        "\n"
      ],
      "metadata": {
        "id": "jEGRjXjReFwd"
      }
    },
    {
      "cell_type": "code",
      "source": [
        "arquivo = 'kaggle_tesla.csv'\n",
        "dados = pd.read_csv(arquivo, skiprows = 1, names = ['data', 'abertura', 'max', 'min', 'fachamento', 'volume', 'ajustado' ], nrows = 4)\n",
        "print(dados)"
      ],
      "metadata": {
        "id": "Dw1m6WlkePcP"
      },
      "execution_count": null,
      "outputs": []
    },
    {
      "cell_type": "markdown",
      "source": [
        "# Arquivo JSON\n",
        "\n",
        "Buscando dados na API (https://randomuser.me/api) que gera como resultado arquivos JSON. Essa API gera dados de um usuário aleatório."
      ],
      "metadata": {
        "id": "n8d2CWB-fXQb"
      }
    },
    {
      "cell_type": "code",
      "source": [
        "import json\n",
        "import requests"
      ],
      "metadata": {
        "id": "m29f6CLTfulQ"
      },
      "execution_count": 11,
      "outputs": []
    },
    {
      "cell_type": "code",
      "source": [
        "resposta = requests.get('https://randomuser.me/api')\n",
        "dados = json.loads(resposta.text)\n",
        "\n",
        "print(dados)"
      ],
      "metadata": {
        "id": "X_SLl17gf53g"
      },
      "execution_count": null,
      "outputs": []
    },
    {
      "cell_type": "code",
      "source": [
        "print(dados['results'][0]['name']['first']) # primeiro nome"
      ],
      "metadata": {
        "id": "Ve_G9mgEgR5g"
      },
      "execution_count": null,
      "outputs": []
    },
    {
      "cell_type": "code",
      "source": [
        "print(dados['results'][0]['name']['last']) # último nome"
      ],
      "metadata": {
        "id": "aqpdjyfZgn0b"
      },
      "execution_count": null,
      "outputs": []
    }
  ]
}