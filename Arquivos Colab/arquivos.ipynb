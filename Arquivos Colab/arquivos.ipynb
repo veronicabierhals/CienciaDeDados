{
  "nbformat": 4,
  "nbformat_minor": 0,
  "metadata": {
    "colab": {
      "provenance": [],
      "authorship_tag": "ABX9TyNGm1ktzjh00ary5uPtW1PE",
      "include_colab_link": true
    },
    "kernelspec": {
      "name": "python3",
      "display_name": "Python 3"
    },
    "language_info": {
      "name": "python"
    }
  },
  "cells": [
    {
      "cell_type": "markdown",
      "metadata": {
        "id": "view-in-github",
        "colab_type": "text"
      },
      "source": [
        "<a href=\"https://colab.research.google.com/github/veronicabierhals/CienciaDeDados/blob/main/Arquivos%20Colab/arquivos.ipynb\" target=\"_parent\"><img src=\"https://colab.research.google.com/assets/colab-badge.svg\" alt=\"Open In Colab\"/></a>"
      ]
    },
    {
      "cell_type": "code",
      "execution_count": 1,
      "metadata": {
        "id": "f-5uaWovShO2"
      },
      "outputs": [],
      "source": [
        "import csv\n",
        "import pandas as pd"
      ]
    },
    {
      "cell_type": "markdown",
      "source": [
        "Arquivo esta na pasta txt"
      ],
      "metadata": {
        "id": "1ndRYGozVXqi"
      }
    },
    {
      "cell_type": "code",
      "source": [
        "arquivo = open('machado_de_assis.txt', 'r')"
      ],
      "metadata": {
        "id": "fzhSXyhaSpsY"
      },
      "execution_count": 2,
      "outputs": []
    },
    {
      "cell_type": "code",
      "source": [
        "conteudo = arquivo.readlines()\n",
        "arquivo.close()"
      ],
      "metadata": {
        "id": "mrGVSuA0TNSg"
      },
      "execution_count": 3,
      "outputs": []
    },
    {
      "cell_type": "code",
      "source": [
        "print(conteudo)\n",
        "print('----')\n",
        "for linha in conteudo:\n",
        "  print(linha)"
      ],
      "metadata": {
        "id": "tdjv6UCUTWbi"
      },
      "execution_count": null,
      "outputs": []
    },
    {
      "cell_type": "markdown",
      "source": [
        "Alterar em todo o texto a palavra \"Rio de Janeiro\" por \"Ribeirão Preto\""
      ],
      "metadata": {
        "id": "_ViPU1OWT661"
      }
    },
    {
      "cell_type": "code",
      "source": [
        "x = ''\n",
        "for linha in conteudo:\n",
        "  if linha != '':\n",
        "    x += linha\n",
        "print(x)\n",
        "\n",
        "x = x.replace('Rio de Janeiro', 'Ribeirão Preto')\n",
        "print('----------')\n",
        "print(x)"
      ],
      "metadata": {
        "id": "eATleScTUD-y"
      },
      "execution_count": null,
      "outputs": []
    },
    {
      "cell_type": "markdown",
      "source": [
        "Gravar/gerar um novo arquivo"
      ],
      "metadata": {
        "id": "4AoJTmWcU6QG"
      }
    },
    {
      "cell_type": "code",
      "source": [
        "arquivo_novo = open('machado_assis_2.txt', 'w')\n",
        "arquivo_novo.writelines(x)\n",
        "arquivo_novo.close()"
      ],
      "metadata": {
        "id": "es4851EpU-3w"
      },
      "execution_count": 6,
      "outputs": []
    },
    {
      "cell_type": "markdown",
      "source": [
        "ARQUIVO CSV"
      ],
      "metadata": {
        "id": "gGVRO3_RVl5M"
      }
    },
    {
      "cell_type": "code",
      "source": [],
      "metadata": {
        "id": "jw5qY7B6VoHQ"
      },
      "execution_count": null,
      "outputs": []
    }
  ]
}