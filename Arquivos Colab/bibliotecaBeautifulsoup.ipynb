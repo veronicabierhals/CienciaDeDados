{
  "nbformat": 4,
  "nbformat_minor": 0,
  "metadata": {
    "colab": {
      "provenance": [],
      "authorship_tag": "ABX9TyN32RbZO3oWj3GepGICJMp8",
      "include_colab_link": true
    },
    "kernelspec": {
      "name": "python3",
      "display_name": "Python 3"
    },
    "language_info": {
      "name": "python"
    }
  },
  "cells": [
    {
      "cell_type": "markdown",
      "metadata": {
        "id": "view-in-github",
        "colab_type": "text"
      },
      "source": [
        "<a href=\"https://colab.research.google.com/github/veronicabierhals/CienciaDeDados/blob/main/bibliotecaBeautifulsoup.ipynb\" target=\"_parent\"><img src=\"https://colab.research.google.com/assets/colab-badge.svg\" alt=\"Open In Colab\"/></a>"
      ]
    },
    {
      "cell_type": "code",
      "execution_count": 1,
      "metadata": {
        "id": "2cGfyG1Zcx9X"
      },
      "outputs": [],
      "source": [
        "import requests\n",
        "from bs4 import BeautifulSoup\n",
        "import pandas as pd"
      ]
    },
    {
      "cell_type": "code",
      "source": [
        "html = requests.get(\n",
        "    \"https://statisticstimes.com/tech/top-computer-languages.php\").content\n",
        "soup = BeautifulSoup(html, 'html5lib')"
      ],
      "metadata": {
        "id": "3EnWotAIc8-r"
      },
      "execution_count": 2,
      "outputs": []
    },
    {
      "cell_type": "markdown",
      "source": [
        "**find** busca o primeiro que ele achar"
      ],
      "metadata": {
        "id": "BA2BhFVHeg1E"
      }
    },
    {
      "cell_type": "code",
      "source": [
        "primeiro_paragrafo = soup.find('p')\n",
        "print(primeiro_paragrafo) # aparece com as tags"
      ],
      "metadata": {
        "id": "xH9RJXgxedL5"
      },
      "execution_count": null,
      "outputs": []
    },
    {
      "cell_type": "code",
      "source": [
        "print(primeiro_paragrafo.text) # aparece somente texto"
      ],
      "metadata": {
        "id": "4pTyfYVJeqcx"
      },
      "execution_count": null,
      "outputs": []
    },
    {
      "cell_type": "markdown",
      "source": [
        "**find_all** busca tudo que tem e joga em uma lista"
      ],
      "metadata": {
        "id": "TPyRXWQBeyMF"
      }
    },
    {
      "cell_type": "code",
      "source": [
        "todos_paragrafos = soup.find_all('p')\n",
        "print(todos_paragrafos) # lista todos os parágrafos"
      ],
      "metadata": {
        "id": "v8gAXZhAewVQ"
      },
      "execution_count": null,
      "outputs": []
    },
    {
      "cell_type": "code",
      "source": [
        "print(todos_paragrafos[0].text) # imprime somente o primeiro parágrafo"
      ],
      "metadata": {
        "id": "jAd8_Isje22R"
      },
      "execution_count": null,
      "outputs": []
    },
    {
      "cell_type": "code",
      "source": [
        "todos_links = soup.find_all('a')\n",
        "print(todos_links)"
      ],
      "metadata": {
        "id": "NkoPTwKRe53s"
      },
      "execution_count": null,
      "outputs": []
    },
    {
      "cell_type": "code",
      "source": [
        "tabela = soup.find('table', {'id': 'table_id1'}).find('tbody')\n",
        "print(tabela)"
      ],
      "metadata": {
        "id": "nB47g0BhdDC_"
      },
      "execution_count": null,
      "outputs": []
    },
    {
      "cell_type": "markdown",
      "source": [
        "abrir o site e buscar no código HTML dele o nome da informação que deseja coletar"
      ],
      "metadata": {
        "id": "1iHPfcEGgayh"
      }
    },
    {
      "cell_type": "code",
      "source": [
        "linhas=tabela.find_all('tr')\n",
        "for linha in linhas:\n",
        "    dados = linha.find_all('td')\n",
        "    print(dados[0].text)\n",
        "    print(dados[2].text)\n",
        "    print(dados[3].text)\n",
        "    print('------')"
      ],
      "metadata": {
        "id": "cBHSymk3dd7d"
      },
      "execution_count": null,
      "outputs": []
    },
    {
      "cell_type": "markdown",
      "source": [
        "Montar uma lista de linguagens e de porcentagem com os dados, para compor um dataframe"
      ],
      "metadata": {
        "id": "iKV4jUgRfjlj"
      }
    },
    {
      "cell_type": "code",
      "source": [
        "linguagem = []\n",
        "pontos = []\n",
        "for linha in linhas:\n",
        "  dado = linha.find_all('td')\n",
        "  linguagem.append(dado[2].text)\n",
        "  pontos.append(dado[3].text)\n",
        "\n",
        "print(linguagem)\n",
        "print(pontos)"
      ],
      "metadata": {
        "colab": {
          "base_uri": "https://localhost:8080/"
        },
        "id": "3C5wDBgRfjc4",
        "outputId": "90eb7e86-6fd3-4acb-9037-037ba3b329c8"
      },
      "execution_count": 17,
      "outputs": [
        {
          "output_type": "stream",
          "name": "stdout",
          "text": [
            "['Python', 'Java', 'JavaScript', 'C/C++', 'C#', 'R', 'PHP', 'TypeScript', 'Swift', 'Objective-C', 'Rust', 'Go', 'Kotlin', 'Matlab', 'Ruby', 'Ada', 'Dart', 'VBA', 'Powershell', 'Lua', 'Scala', 'Abap', 'Visual Basic', 'Julia', 'Groovy', 'Perl', 'Haskell', 'Cobol', 'Delphi/Pascal']\n",
            "[' 28.2 %', ' 15.73 %', ' 8.91 %', ' 6.8 %', ' 6.67 %', ' 4.59 %', ' 4.54 %', ' 2.92 %', ' 2.77 %', ' 2.34 %', ' 2.19 %', ' 2.02 %', ' 1.78 %', ' 1.59 %', ' 1.03 %', ' 1.02 %', ' 0.99 %', ' 0.91 %', ' 0.91 %', ' 0.71 %', ' 0.61 %', ' 0.54 %', ' 0.53 %', ' 0.37 %', ' 0.33 %', ' 0.3 %', ' 0.28 %', ' 0.22 %', ' 0.19 %']\n"
          ]
        }
      ]
    },
    {
      "cell_type": "markdown",
      "source": [
        "Criação do dataframe com base na tabela do site"
      ],
      "metadata": {
        "id": "MCwn0cX3g8A2"
      }
    },
    {
      "cell_type": "code",
      "source": [
        "dados = pd.DataFrame(linguagem, columns=['Linguagem'])\n",
        "dados['Pontos'] = pontos\n",
        "print(dados)"
      ],
      "metadata": {
        "colab": {
          "base_uri": "https://localhost:8080/"
        },
        "id": "jOSAjP9kfgXV",
        "outputId": "ab6f8a01-90bf-478e-c4f6-62c2f751a352"
      },
      "execution_count": 18,
      "outputs": [
        {
          "output_type": "stream",
          "name": "stdout",
          "text": [
            "        Linguagem    Pontos\n",
            "0          Python    28.2 %\n",
            "1            Java   15.73 %\n",
            "2      JavaScript    8.91 %\n",
            "3           C/C++     6.8 %\n",
            "4              C#    6.67 %\n",
            "5               R    4.59 %\n",
            "6             PHP    4.54 %\n",
            "7      TypeScript    2.92 %\n",
            "8           Swift    2.77 %\n",
            "9     Objective-C    2.34 %\n",
            "10           Rust    2.19 %\n",
            "11             Go    2.02 %\n",
            "12         Kotlin    1.78 %\n",
            "13         Matlab    1.59 %\n",
            "14           Ruby    1.03 %\n",
            "15            Ada    1.02 %\n",
            "16           Dart    0.99 %\n",
            "17            VBA    0.91 %\n",
            "18     Powershell    0.91 %\n",
            "19            Lua    0.71 %\n",
            "20          Scala    0.61 %\n",
            "21           Abap    0.54 %\n",
            "22   Visual Basic    0.53 %\n",
            "23          Julia    0.37 %\n",
            "24         Groovy    0.33 %\n",
            "25           Perl     0.3 %\n",
            "26        Haskell    0.28 %\n",
            "27          Cobol    0.22 %\n",
            "28  Delphi/Pascal    0.19 %\n"
          ]
        }
      ]
    }
  ]
}